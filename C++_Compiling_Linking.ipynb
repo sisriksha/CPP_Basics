{
  "nbformat": 4,
  "nbformat_minor": 0,
  "metadata": {
    "colab": {
      "name": "C++_Compiling_Linking.ipynb",
      "provenance": [],
      "authorship_tag": "ABX9TyOXfJ2jIF8J6xhVz84iUs23",
      "include_colab_link": true
    },
    "kernelspec": {
      "name": "python3",
      "display_name": "Python 3"
    }
  },
  "cells": [
    {
      "cell_type": "markdown",
      "metadata": {
        "id": "view-in-github",
        "colab_type": "text"
      },
      "source": [
        "<a href=\"https://colab.research.google.com/github/sisriksha/CPP_Basics/blob/master/C%2B%2B_Compiling_Linking.ipynb\" target=\"_parent\"><img src=\"https://colab.research.google.com/assets/colab-badge.svg\" alt=\"Open In Colab\"/></a>"
      ]
    },
    {
      "cell_type": "markdown",
      "metadata": {
        "id": "nfQq_cAy0GJK",
        "colab_type": "text"
      },
      "source": [
        "# **Compiling & Linking**"
      ]
    },
    {
      "cell_type": "code",
      "metadata": {
        "id": "FJ1U8SSC2Xso",
        "colab_type": "code",
        "colab": {}
      },
      "source": [
        "!mkdir deps"
      ],
      "execution_count": null,
      "outputs": []
    },
    {
      "cell_type": "code",
      "metadata": {
        "id": "5j1QlKKuK6ZP",
        "colab_type": "code",
        "colab": {
          "base_uri": "https://localhost:8080/",
          "height": 34
        },
        "outputId": "f5bd96d0-3ea4-4dfb-913c-1ba752f04443"
      },
      "source": [
        "%%writefile deps/person.h\n",
        "\n",
        "#ifndef PERSON_H\n",
        "#define PERSON_H\n",
        "\n",
        "#include <string>\n",
        "using namespace std;\n",
        "\n",
        "class Person{\n",
        "    protected:\n",
        "      string name;\n",
        "      int id;\n",
        "    public:\n",
        "      Person();\n",
        "      Person(string name, int id);\n",
        "      void PrintName();\n",
        "      virtual void PrintId();\n",
        "};\n",
        "\n",
        "#endif"
      ],
      "execution_count": null,
      "outputs": [
        {
          "output_type": "stream",
          "text": [
            "Writing sub/person.h\n"
          ],
          "name": "stdout"
        }
      ]
    },
    {
      "cell_type": "code",
      "metadata": {
        "id": "0yY2Qveo2Dpi",
        "colab_type": "code",
        "colab": {
          "base_uri": "https://localhost:8080/",
          "height": 34
        },
        "outputId": "01274ac7-7e5b-45f9-aa25-a24bd15c9924"
      },
      "source": [
        "%%writefile deps/person.cpp\n",
        "\n",
        "#include <iostream>\n",
        "#include <string>\n",
        "#include \"person.h\"\n",
        "\n",
        "using namespace std;\n",
        "\n",
        "Person::Person(){\n",
        "    cout<<\"Person default constructor\"<<endl;\n",
        "}\n",
        "\n",
        "Person::Person(string name, int id){\n",
        "    cout<<\"Person parameterized constructor\"<<endl;\n",
        "    this->name = name;\n",
        "    this->id = id;\n",
        "}\n",
        "\n",
        "void Person::PrintName(){\n",
        "    cout << \"Person Name: \" << this->name << endl;\n",
        "}\n",
        "\n",
        "void Person::PrintId(){\n",
        "    cout << \"Person Id: \" << this->id << endl;\n",
        "}"
      ],
      "execution_count": null,
      "outputs": [
        {
          "output_type": "stream",
          "text": [
            "Writing sub/person.cpp\n"
          ],
          "name": "stdout"
        }
      ]
    },
    {
      "cell_type": "code",
      "metadata": {
        "id": "FqjquCkL2FO_",
        "colab_type": "code",
        "colab": {
          "base_uri": "https://localhost:8080/",
          "height": 34
        },
        "outputId": "6d02a8ed-8287-468c-bc67-5cd354bdbaab"
      },
      "source": [
        "%%writefile main.cpp\n",
        "\n",
        "#include <iostream>\n",
        "#include <string>\n",
        "#include \"person.h\"\n",
        "\n",
        "using namespace std;\n",
        "\n",
        "int main(){\n",
        "    cout<<\"Creating Objects\"<<endl;\n",
        "    Person *p = new Person(\"Oly\", 25);\n",
        "    cout<<\"-------------------\"<<endl;\n",
        "    cout<<\"Printing Names: \"<<endl;\n",
        "    p->PrintName();\n",
        "    cout<<\"-------------------\"<<endl;\n",
        "    cout<<\"Printing Ids: \"<<endl;\n",
        "    p->PrintId();\n",
        "    delete p;\n",
        "    return 0;\n",
        "}"
      ],
      "execution_count": null,
      "outputs": [
        {
          "output_type": "stream",
          "text": [
            "Overwriting main.cpp\n"
          ],
          "name": "stdout"
        }
      ]
    },
    {
      "cell_type": "code",
      "metadata": {
        "id": "eYSeo56i8ROz",
        "colab_type": "code",
        "colab": {}
      },
      "source": [
        "!g++ -c *.cpp deps/*.cpp\n",
        "!g++ -o main *.o\n",
        "!./main"
      ],
      "execution_count": null,
      "outputs": []
    },
    {
      "cell_type": "code",
      "metadata": {
        "id": "woN4v6Fw-tXb",
        "colab_type": "code",
        "colab": {}
      },
      "source": [
        "%%shell\n",
        "find . -print | grep \".cpp$\" | xargs g++ -c\n",
        "g++ -o main *.o && rm *.o\n",
        "./main"
      ],
      "execution_count": null,
      "outputs": []
    }
  ]
}