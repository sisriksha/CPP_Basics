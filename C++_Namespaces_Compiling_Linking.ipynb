{
  "nbformat": 4,
  "nbformat_minor": 0,
  "metadata": {
    "colab": {
      "name": "C++ Namespaces/ Compiling/ Linking.ipynb",
      "provenance": [],
      "collapsed_sections": [
        "YjBcaQk-J8nE",
        "c3zKRROyNSaP",
        "nfQq_cAy0GJK"
      ],
      "authorship_tag": "ABX9TyNIAFIFHQ6oYauSIWWg+GrG",
      "include_colab_link": true
    },
    "kernelspec": {
      "name": "python3",
      "display_name": "Python 3"
    }
  },
  "cells": [
    {
      "cell_type": "markdown",
      "metadata": {
        "id": "view-in-github",
        "colab_type": "text"
      },
      "source": [
        "<a href=\"https://colab.research.google.com/github/sisriksha/CPP_Basics/blob/master/C%2B%2B_Namespaces_Compiling_Linking.ipynb\" target=\"_parent\"><img src=\"https://colab.research.google.com/assets/colab-badge.svg\" alt=\"Open In Colab\"/></a>"
      ]
    },
    {
      "cell_type": "markdown",
      "metadata": {
        "id": "YjBcaQk-J8nE",
        "colab_type": "text"
      },
      "source": [
        "# **Namespaces**\n",
        "One file"
      ]
    },
    {
      "cell_type": "code",
      "metadata": {
        "id": "eF7HlVKdJx8-",
        "colab_type": "code",
        "colab": {
          "base_uri": "https://localhost:8080/",
          "height": 34
        },
        "outputId": "22871bba-7b19-4fb1-d696-efdd549a3a82"
      },
      "source": [
        "%%writefile main.cpp\n",
        "\n",
        "#include <iostream>\n",
        "\n",
        "namespace math_utils{\n",
        "  template <class T>\n",
        "  T add(T a, T b);\n",
        "\n",
        "  template <class T>\n",
        "  T subtract(T a, T b);\n",
        "}\n",
        "\n",
        "template <class T>\n",
        "T math_utils::add(T a, T b){\n",
        "  return a+b;\n",
        "}\n",
        "\n",
        "template <class T>\n",
        "T math_utils::subtract(T a, T b){\n",
        "  return a-b;\n",
        "}\n",
        "\n",
        "int main(){\n",
        "  int res1 = math_utils::add<int>(1,2);\n",
        "  std::cout<<\"Added: \"<<res1<<std::endl;\n",
        "  double res2 = math_utils::subtract<double>(5.0,3.2);\n",
        "  std::cout<<\"Subtracted: \"<<res2<<std::endl;\n",
        "  return 0;    \n",
        "}"
      ],
      "execution_count": 38,
      "outputs": [
        {
          "output_type": "stream",
          "text": [
            "Overwriting main.cpp\n"
          ],
          "name": "stdout"
        }
      ]
    },
    {
      "cell_type": "code",
      "metadata": {
        "id": "sHjXMTQOJ-jb",
        "colab_type": "code",
        "colab": {
          "base_uri": "https://localhost:8080/",
          "height": 51
        },
        "outputId": "ef691531-8cdc-4ae1-b847-027e398341b0"
      },
      "source": [
        "!g++ main.cpp && ./a.out"
      ],
      "execution_count": 37,
      "outputs": [
        {
          "output_type": "stream",
          "text": [
            "Added: 3\n",
            "Subtracted: 1.8\n"
          ],
          "name": "stdout"
        }
      ]
    },
    {
      "cell_type": "markdown",
      "metadata": {
        "id": "c3zKRROyNSaP",
        "colab_type": "text"
      },
      "source": [
        "# **Namespaces**\n",
        "Many files"
      ]
    },
    {
      "cell_type": "code",
      "metadata": {
        "id": "vjlvPoBnNZD1",
        "colab_type": "code",
        "colab": {
          "base_uri": "https://localhost:8080/",
          "height": 34
        },
        "outputId": "35fdee7a-38d0-48b4-d7e7-290b38096f36"
      },
      "source": [
        "%%writefile mymath.h\n",
        "\n",
        "#ifndef PERSON_H\n",
        "#define PERSON_H\n",
        "\n",
        "namespace math_utils{\n",
        "   int add(int a, int b); \n",
        "}\n",
        "\n",
        "#endif"
      ],
      "execution_count": 106,
      "outputs": [
        {
          "output_type": "stream",
          "text": [
            "Writing mymath.h\n"
          ],
          "name": "stdout"
        }
      ]
    },
    {
      "cell_type": "code",
      "metadata": {
        "id": "Vv3F1lssNsn1",
        "colab_type": "code",
        "colab": {
          "base_uri": "https://localhost:8080/",
          "height": 34
        },
        "outputId": "c1e6c8fe-6d2b-42bf-a109-ab82a330b3f9"
      },
      "source": [
        "%%writefile mymath.cpp\n",
        "\n",
        "#include \"mymath.h\"\n",
        "\n",
        "int math_utils::add(int a, int b){\n",
        "    return a+b;\n",
        "}"
      ],
      "execution_count": 108,
      "outputs": [
        {
          "output_type": "stream",
          "text": [
            "Overwriting mymath.cpp\n"
          ],
          "name": "stdout"
        }
      ]
    },
    {
      "cell_type": "code",
      "metadata": {
        "id": "NMhEWCAEN3S9",
        "colab_type": "code",
        "colab": {
          "base_uri": "https://localhost:8080/",
          "height": 34
        },
        "outputId": "bf39941e-8ebe-4682-c64f-53c9adfb77b9"
      },
      "source": [
        "%%writefile main.cpp\n",
        "\n",
        "#include \"mymath.h\"\n",
        "#include <iostream>\n",
        "\n",
        "int main(){\n",
        "    int res = math_utils::add(1,2);\n",
        "    std::cout<<\"Res: \"<<res;\n",
        "    return 0;\n",
        "}"
      ],
      "execution_count": 109,
      "outputs": [
        {
          "output_type": "stream",
          "text": [
            "Overwriting main.cpp\n"
          ],
          "name": "stdout"
        }
      ]
    },
    {
      "cell_type": "code",
      "metadata": {
        "id": "2Ux_qN6hOQBE",
        "colab_type": "code",
        "colab": {
          "base_uri": "https://localhost:8080/",
          "height": 34
        },
        "outputId": "d561337c-546a-436d-a6a7-b9f8c746b7e8"
      },
      "source": [
        "!g++ main.cpp mymath.cpp && ./a.out"
      ],
      "execution_count": 113,
      "outputs": [
        {
          "output_type": "stream",
          "text": [
            "Res: 3"
          ],
          "name": "stdout"
        }
      ]
    },
    {
      "cell_type": "markdown",
      "metadata": {
        "id": "nfQq_cAy0GJK",
        "colab_type": "text"
      },
      "source": [
        "# **Compiling & Linking**"
      ]
    },
    {
      "cell_type": "code",
      "metadata": {
        "id": "FJ1U8SSC2Xso",
        "colab_type": "code",
        "colab": {}
      },
      "source": [
        "!mkdir deps"
      ],
      "execution_count": 5,
      "outputs": []
    },
    {
      "cell_type": "code",
      "metadata": {
        "id": "5j1QlKKuK6ZP",
        "colab_type": "code",
        "colab": {
          "base_uri": "https://localhost:8080/",
          "height": 34
        },
        "outputId": "f5bd96d0-3ea4-4dfb-913c-1ba752f04443"
      },
      "source": [
        "%%writefile deps/person.h\n",
        "\n",
        "#ifndef PERSON_H\n",
        "#define PERSON_H\n",
        "\n",
        "#include <string>\n",
        "using namespace std;\n",
        "\n",
        "class Person{\n",
        "    protected:\n",
        "      string name;\n",
        "      int id;\n",
        "    public:\n",
        "      Person();\n",
        "      Person(string name, int id);\n",
        "      void PrintName();\n",
        "      virtual void PrintId();\n",
        "};\n",
        "\n",
        "#endif"
      ],
      "execution_count": 6,
      "outputs": [
        {
          "output_type": "stream",
          "text": [
            "Writing sub/person.h\n"
          ],
          "name": "stdout"
        }
      ]
    },
    {
      "cell_type": "code",
      "metadata": {
        "id": "0yY2Qveo2Dpi",
        "colab_type": "code",
        "colab": {
          "base_uri": "https://localhost:8080/",
          "height": 34
        },
        "outputId": "01274ac7-7e5b-45f9-aa25-a24bd15c9924"
      },
      "source": [
        "%%writefile deps/person.cpp\n",
        "\n",
        "#include <iostream>\n",
        "#include <string>\n",
        "#include \"person.h\"\n",
        "\n",
        "using namespace std;\n",
        "\n",
        "Person::Person(){\n",
        "    cout<<\"Person default constructor\"<<endl;\n",
        "}\n",
        "\n",
        "Person::Person(string name, int id){\n",
        "    cout<<\"Person parameterized constructor\"<<endl;\n",
        "    this->name = name;\n",
        "    this->id = id;\n",
        "}\n",
        "\n",
        "void Person::PrintName(){\n",
        "    cout << \"Person Name: \" << this->name << endl;\n",
        "}\n",
        "\n",
        "void Person::PrintId(){\n",
        "    cout << \"Person Id: \" << this->id << endl;\n",
        "}"
      ],
      "execution_count": 7,
      "outputs": [
        {
          "output_type": "stream",
          "text": [
            "Writing sub/person.cpp\n"
          ],
          "name": "stdout"
        }
      ]
    },
    {
      "cell_type": "code",
      "metadata": {
        "id": "FqjquCkL2FO_",
        "colab_type": "code",
        "colab": {
          "base_uri": "https://localhost:8080/",
          "height": 34
        },
        "outputId": "6d02a8ed-8287-468c-bc67-5cd354bdbaab"
      },
      "source": [
        "%%writefile main.cpp\n",
        "\n",
        "#include <iostream>\n",
        "#include <string>\n",
        "#include \"person.h\"\n",
        "\n",
        "using namespace std;\n",
        "\n",
        "int main(){\n",
        "    cout<<\"Creating Objects\"<<endl;\n",
        "    Person *p = new Person(\"Oly\", 25);\n",
        "    cout<<\"-------------------\"<<endl;\n",
        "    cout<<\"Printing Names: \"<<endl;\n",
        "    p->PrintName();\n",
        "    cout<<\"-------------------\"<<endl;\n",
        "    cout<<\"Printing Ids: \"<<endl;\n",
        "    p->PrintId();\n",
        "    delete p;\n",
        "    return 0;\n",
        "}"
      ],
      "execution_count": 26,
      "outputs": [
        {
          "output_type": "stream",
          "text": [
            "Overwriting main.cpp\n"
          ],
          "name": "stdout"
        }
      ]
    },
    {
      "cell_type": "code",
      "metadata": {
        "id": "eYSeo56i8ROz",
        "colab_type": "code",
        "colab": {}
      },
      "source": [
        "!g++ -c *.cpp deps/*.cpp\n",
        "!g++ -o main *.o\n",
        "!./main"
      ],
      "execution_count": 79,
      "outputs": []
    },
    {
      "cell_type": "code",
      "metadata": {
        "id": "woN4v6Fw-tXb",
        "colab_type": "code",
        "colab": {}
      },
      "source": [
        "%%shell\n",
        "find . -print | grep \".cpp$\" | xargs g++ -c\n",
        "g++ -o main *.o && rm *.o\n",
        "./main"
      ],
      "execution_count": null,
      "outputs": []
    }
  ]
}