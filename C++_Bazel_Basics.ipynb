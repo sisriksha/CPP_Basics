{
  "nbformat": 4,
  "nbformat_minor": 0,
  "metadata": {
    "colab": {
      "name": "C++_Bazel_Basics.ipynb",
      "provenance": [],
      "collapsed_sections": [],
      "authorship_tag": "ABX9TyPysWxWxEbJIknFHb9K2/Yi",
      "include_colab_link": true
    },
    "kernelspec": {
      "name": "python3",
      "display_name": "Python 3"
    }
  },
  "cells": [
    {
      "cell_type": "markdown",
      "metadata": {
        "id": "view-in-github",
        "colab_type": "text"
      },
      "source": [
        "<a href=\"https://colab.research.google.com/github/sisriksha/CPP_Basics/blob/master/C%2B%2B_Bazel_Basics.ipynb\" target=\"_parent\"><img src=\"https://colab.research.google.com/assets/colab-badge.svg\" alt=\"Open In Colab\"/></a>"
      ]
    },
    {
      "cell_type": "code",
      "metadata": {
        "id": "84VM1z0QJN4C",
        "colab_type": "code",
        "colab": {}
      },
      "source": [
        "%%shell\n",
        "curl https://bazel.build/bazel-release.pub.gpg | sudo apt-key add -\n",
        "echo \"deb [arch=amd64] https://storage.googleapis.com/bazel-apt stable jdk1.8\" | sudo tee /etc/apt/sources.list.d/bazel.list"
      ],
      "execution_count": null,
      "outputs": []
    },
    {
      "cell_type": "code",
      "metadata": {
        "id": "rZxdKStJJU84",
        "colab_type": "code",
        "colab": {}
      },
      "source": [
        "!apt update && apt install bazel"
      ],
      "execution_count": null,
      "outputs": []
    },
    {
      "cell_type": "code",
      "metadata": {
        "id": "FyNY1MiwJkRm",
        "colab_type": "code",
        "colab": {
          "base_uri": "https://localhost:8080/",
          "height": 34
        },
        "outputId": "bc167ad4-59f5-4947-b4e4-7a1815e9f26c"
      },
      "source": [
        "!bazel --version"
      ],
      "execution_count": null,
      "outputs": [
        {
          "output_type": "stream",
          "text": [
            "bazel 3.3.1\n"
          ],
          "name": "stdout"
        }
      ]
    },
    {
      "cell_type": "code",
      "metadata": {
        "id": "VMa4nPstEMav",
        "colab_type": "code",
        "colab": {}
      },
      "source": [
        "!mkdir mycode"
      ],
      "execution_count": null,
      "outputs": []
    },
    {
      "cell_type": "code",
      "metadata": {
        "id": "fTHpAhCAERqn",
        "colab_type": "code",
        "colab": {
          "base_uri": "https://localhost:8080/",
          "height": 34
        },
        "outputId": "d1e8d88e-93ed-450f-9cb5-72578bedfa9a"
      },
      "source": [
        "%cd mycode"
      ],
      "execution_count": null,
      "outputs": [
        {
          "output_type": "stream",
          "text": [
            "/content/mycode\n"
          ],
          "name": "stdout"
        }
      ]
    },
    {
      "cell_type": "code",
      "metadata": {
        "id": "7VXAG0eWEWpx",
        "colab_type": "code",
        "colab": {}
      },
      "source": [
        "!touch BUILD greeting.cc greeting.hh hello.cc WORKSPACE"
      ],
      "execution_count": null,
      "outputs": []
    },
    {
      "cell_type": "code",
      "metadata": {
        "id": "4Cip_HK_E-k8",
        "colab_type": "code",
        "colab": {
          "base_uri": "https://localhost:8080/",
          "height": 34
        },
        "outputId": "fd8d8486-0a5d-4ffd-8922-e2be2a5619b7"
      },
      "source": [
        "%%writefile greeting.cc\n",
        "#include <iostream>\n",
        "using namespace std;\n",
        " \n",
        "void greet(string name){\n",
        "  cout<<\"Hello \"<<name<<\".\\n\";\n",
        "}"
      ],
      "execution_count": null,
      "outputs": [
        {
          "output_type": "stream",
          "text": [
            "Overwriting greeting.cc\n"
          ],
          "name": "stdout"
        }
      ]
    },
    {
      "cell_type": "code",
      "metadata": {
        "id": "iHT29vyVHX1i",
        "colab_type": "code",
        "colab": {
          "base_uri": "https://localhost:8080/",
          "height": 34
        },
        "outputId": "7487915e-e474-4318-da48-d0a1f59cce27"
      },
      "source": [
        "%%writefile greeting.hh\n",
        "#pragma once\n",
        "#include <iostream>\n",
        "using namespace std; \n",
        " \n",
        "void greet(string);"
      ],
      "execution_count": null,
      "outputs": [
        {
          "output_type": "stream",
          "text": [
            "Overwriting greeting.hh\n"
          ],
          "name": "stdout"
        }
      ]
    },
    {
      "cell_type": "code",
      "metadata": {
        "id": "jGRax-vUIbw4",
        "colab_type": "code",
        "colab": {
          "base_uri": "https://localhost:8080/",
          "height": 34
        },
        "outputId": "fc9e4745-36bc-4b2a-daaf-7c0af38fe046"
      },
      "source": [
        "%%writefile hello.cc\n",
        " \n",
        "#include \"greeting.hh\"\n",
        " \n",
        "int main(){\n",
        "  greet(\"Oly\");\n",
        "}"
      ],
      "execution_count": null,
      "outputs": [
        {
          "output_type": "stream",
          "text": [
            "Overwriting hello.cc\n"
          ],
          "name": "stdout"
        }
      ]
    },
    {
      "cell_type": "code",
      "metadata": {
        "id": "93f7Gn2BJuY6",
        "colab_type": "code",
        "colab": {
          "base_uri": "https://localhost:8080/",
          "height": 34
        },
        "outputId": "c81cd01b-e65f-49b2-ddd1-0eabc510409b"
      },
      "source": [
        "%%writefile BUILD\n",
        " \n",
        "cc_library(\n",
        "  name=\"greeting_lib\",\n",
        "  srcs=[\"greeting.cc\"],\n",
        "  hdrs=[\"greeting.hh\"],\n",
        ")\n",
        " \n",
        "cc_binary(\n",
        "  name=\"hello\",\n",
        "  srcs=[\"hello.cc\"],\n",
        "  deps=[\":greeting_lib\"],\n",
        ")"
      ],
      "execution_count": null,
      "outputs": [
        {
          "output_type": "stream",
          "text": [
            "Overwriting BUILD\n"
          ],
          "name": "stdout"
        }
      ]
    },
    {
      "cell_type": "code",
      "metadata": {
        "id": "gb_S8DUJMU-c",
        "colab_type": "code",
        "colab": {}
      },
      "source": [
        "!bazel build hello\n",
        "!bazel run hello"
      ],
      "execution_count": null,
      "outputs": []
    }
  ]
}