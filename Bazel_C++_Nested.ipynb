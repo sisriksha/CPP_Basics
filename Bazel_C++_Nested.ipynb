{
  "nbformat": 4,
  "nbformat_minor": 0,
  "metadata": {
    "colab": {
      "name": "Bazel C++ - Nested.ipynb",
      "provenance": [],
      "authorship_tag": "ABX9TyN+AbALkF75M/KFDDnKzy+T",
      "include_colab_link": true
    },
    "kernelspec": {
      "name": "python3",
      "display_name": "Python 3"
    }
  },
  "cells": [
    {
      "cell_type": "markdown",
      "metadata": {
        "id": "view-in-github",
        "colab_type": "text"
      },
      "source": [
        "<a href=\"https://colab.research.google.com/github/sisriksha/CPP_Basics/blob/master/Bazel_C%2B%2B_Nested.ipynb\" target=\"_parent\"><img src=\"https://colab.research.google.com/assets/colab-badge.svg\" alt=\"Open In Colab\"/></a>"
      ]
    },
    {
      "cell_type": "code",
      "metadata": {
        "id": "KSDGn6X_jgck",
        "colab_type": "code",
        "colab": {}
      },
      "source": [
        "%%shell\n",
        "curl https://bazel.build/bazel-release.pub.gpg | sudo apt-key add -\n",
        "echo \"deb [arch=amd64] https://storage.googleapis.com/bazel-apt stable jdk1.8\" | sudo tee /etc/apt/sources.list.d/bazel.list\n",
        "apt update && apt install bazel\n",
        "bazel --version\n",
        "mkdir my_code"
      ],
      "execution_count": null,
      "outputs": []
    },
    {
      "cell_type": "code",
      "metadata": {
        "id": "xMpDJgG7jnSP",
        "colab_type": "code",
        "colab": {
          "base_uri": "https://localhost:8080/",
          "height": 34
        },
        "outputId": "f178578c-fb19-4f8d-ac90-150ba5ff349c"
      },
      "source": [
        "%cd my_code"
      ],
      "execution_count": 2,
      "outputs": [
        {
          "output_type": "stream",
          "text": [
            "/content/my_code\n"
          ],
          "name": "stdout"
        }
      ]
    },
    {
      "cell_type": "code",
      "metadata": {
        "id": "41ry4gNDkHBX",
        "colab_type": "code",
        "colab": {
          "base_uri": "https://localhost:8080/",
          "height": 17
        },
        "outputId": "36c36719-db37-4a3b-cc86-70b2ba5868a6"
      },
      "source": [
        "%%shell\n",
        "mkdir main lib\n",
        "touch WORKSPACE main/BUILD main/main_hello.cc lib/BUILD lib/greet.cc lib/greet.h"
      ],
      "execution_count": 3,
      "outputs": [
        {
          "output_type": "execute_result",
          "data": {
            "text/plain": [
              ""
            ]
          },
          "metadata": {
            "tags": []
          },
          "execution_count": 3
        }
      ]
    },
    {
      "cell_type": "code",
      "metadata": {
        "id": "1yKq5bkXkvQr",
        "colab_type": "code",
        "colab": {
          "base_uri": "https://localhost:8080/",
          "height": 34
        },
        "outputId": "0df7fb41-aa75-4b31-c42e-c99f34eb9e84"
      },
      "source": [
        "%%writefile lib/greet.h\n",
        "#pragma once\n",
        "using namespace std;\n",
        "\n",
        "void say_hello(string);\n"
      ],
      "execution_count": null,
      "outputs": [
        {
          "output_type": "stream",
          "text": [
            "Overwriting lib/greet.h\n"
          ],
          "name": "stdout"
        }
      ]
    },
    {
      "cell_type": "code",
      "metadata": {
        "id": "6ilGrt3_lBkS",
        "colab_type": "code",
        "colab": {
          "base_uri": "https://localhost:8080/",
          "height": 34
        },
        "outputId": "1ac2ca91-aba4-40bd-996d-ee16879311b3"
      },
      "source": [
        "%%writefile lib/greet.cc\n",
        "#include <iostream>\n",
        "using namespace std;\n",
        "\n",
        "void say_hello(string name){\n",
        "  cout<<\"Hello \"<<name;    \n",
        "}"
      ],
      "execution_count": null,
      "outputs": [
        {
          "output_type": "stream",
          "text": [
            "Overwriting lib/greet.cc\n"
          ],
          "name": "stdout"
        }
      ]
    },
    {
      "cell_type": "code",
      "metadata": {
        "id": "a6ARjbKRlSY3",
        "colab_type": "code",
        "colab": {
          "base_uri": "https://localhost:8080/",
          "height": 34
        },
        "outputId": "e5efbf28-90cf-47b9-d2a1-55a3a3a956b5"
      },
      "source": [
        "%%writefile lib/BUILD\n",
        "cc_library(\n",
        "    name=\"greet\",\n",
        "    srcs=[\"greet.cc\"],\n",
        "    hdrs=[\"greet.h\"],\n",
        "    visibility=[\"//main:__pkg__\"],\n",
        ")"
      ],
      "execution_count": null,
      "outputs": [
        {
          "output_type": "stream",
          "text": [
            "Overwriting lib/BUILD\n"
          ],
          "name": "stdout"
        }
      ]
    },
    {
      "cell_type": "code",
      "metadata": {
        "id": "ua3mfFcll1go",
        "colab_type": "code",
        "colab": {
          "base_uri": "https://localhost:8080/",
          "height": 34
        },
        "outputId": "a234d7d3-c531-456e-de41-ccc9335a508c"
      },
      "source": [
        "%%writefile main/main_hello.cc\n",
        "#include <iostream>\n",
        "#include \"lib/greet.h\"\n",
        "\n",
        "int main(){\n",
        "    string name = \"Oly\";\n",
        "    say_hello(name);\n",
        "}"
      ],
      "execution_count": null,
      "outputs": [
        {
          "output_type": "stream",
          "text": [
            "Overwriting main/main_hello.cc\n"
          ],
          "name": "stdout"
        }
      ]
    },
    {
      "cell_type": "code",
      "metadata": {
        "id": "_M3Pm298mew2",
        "colab_type": "code",
        "colab": {
          "base_uri": "https://localhost:8080/",
          "height": 34
        },
        "outputId": "306ccbe5-7798-42da-a41a-4ab969bc3913"
      },
      "source": [
        "%%writefile main/BUILD\n",
        "\n",
        "cc_binary(\n",
        "    name=\"main_hello\",\n",
        "    srcs=[\"main_hello.cc\"],\n",
        "    deps=[\"//lib:greet\"],\n",
        ")"
      ],
      "execution_count": null,
      "outputs": [
        {
          "output_type": "stream",
          "text": [
            "Overwriting main/BUILD\n"
          ],
          "name": "stdout"
        }
      ]
    },
    {
      "cell_type": "code",
      "metadata": {
        "id": "Lh-OhlnRmxc_",
        "colab_type": "code",
        "colab": {}
      },
      "source": [
        "!bazel run //main:main_hello"
      ],
      "execution_count": null,
      "outputs": []
    },
    {
      "cell_type": "code",
      "metadata": {
        "id": "BCrbO7tBm4eV",
        "colab_type": "code",
        "colab": {}
      },
      "source": [
        ""
      ],
      "execution_count": null,
      "outputs": []
    }
  ]
}