{
  "nbformat": 4,
  "nbformat_minor": 0,
  "metadata": {
    "colab": {
      "name": "C++ Basics.ipynb",
      "provenance": [],
      "collapsed_sections": [],
      "authorship_tag": "ABX9TyPPAFviQHoobFhgjcTjQ2BY",
      "include_colab_link": true
    },
    "kernelspec": {
      "name": "python3",
      "display_name": "Python 3"
    }
  },
  "cells": [
    {
      "cell_type": "markdown",
      "metadata": {
        "id": "view-in-github",
        "colab_type": "text"
      },
      "source": [
        "<a href=\"https://colab.research.google.com/github/sisriksha/CPP_Basics/blob/master/C%2B%2B_Basics.ipynb\" target=\"_parent\"><img src=\"https://colab.research.google.com/assets/colab-badge.svg\" alt=\"Open In Colab\"/></a>"
      ]
    },
    {
      "cell_type": "code",
      "metadata": {
        "id": "gWsJClINkvzi",
        "colab_type": "code",
        "colab": {
          "base_uri": "https://localhost:8080/",
          "height": 221
        },
        "outputId": "144b6075-5e52-4d57-e06f-a422ca1c1687"
      },
      "source": [
        "!pip install git+git://github.com/andreinechaev/nvcc4jupyter.git\n",
        "%load_ext nvcc_plugin"
      ],
      "execution_count": 2,
      "outputs": [
        {
          "output_type": "stream",
          "text": [
            "Collecting git+git://github.com/andreinechaev/nvcc4jupyter.git\n",
            "  Cloning git://github.com/andreinechaev/nvcc4jupyter.git to /tmp/pip-req-build-wn32p098\n",
            "  Running command git clone -q git://github.com/andreinechaev/nvcc4jupyter.git /tmp/pip-req-build-wn32p098\n",
            "Building wheels for collected packages: NVCCPlugin\n",
            "  Building wheel for NVCCPlugin (setup.py) ... \u001b[?25l\u001b[?25hdone\n",
            "  Created wheel for NVCCPlugin: filename=NVCCPlugin-0.0.2-cp36-none-any.whl size=4307 sha256=1f9633120bcdf1b385afa46cf2f87354d5dce812b1f121ea50f64aba8e3d444d\n",
            "  Stored in directory: /tmp/pip-ephem-wheel-cache-dhtfquy_/wheels/10/c2/05/ca241da37bff77d60d31a9174f988109c61ba989e4d4650516\n",
            "Successfully built NVCCPlugin\n",
            "Installing collected packages: NVCCPlugin\n",
            "Successfully installed NVCCPlugin-0.0.2\n",
            "created output directory at /content/src\n",
            "Out bin /content/result.out\n"
          ],
          "name": "stdout"
        }
      ]
    },
    {
      "cell_type": "markdown",
      "metadata": {
        "id": "TTQTtDOEmIq4",
        "colab_type": "text"
      },
      "source": [
        "### Hello World"
      ]
    },
    {
      "cell_type": "code",
      "metadata": {
        "id": "al6jg712k3cs",
        "colab_type": "code",
        "colab": {
          "base_uri": "https://localhost:8080/",
          "height": 34
        },
        "outputId": "1b006d93-6764-4f22-e60d-89fd79debef9"
      },
      "source": [
        "%%cu\n",
        "#include <iostream>\n",
        "using namespace std;\n",
        "int main(){\n",
        "    cout << \"hello world\";\n",
        "    return 0;\n",
        "}"
      ],
      "execution_count": null,
      "outputs": [
        {
          "output_type": "stream",
          "text": [
            "hello world\n"
          ],
          "name": "stdout"
        }
      ]
    },
    {
      "cell_type": "markdown",
      "metadata": {
        "id": "8tfouCBQmBsC",
        "colab_type": "text"
      },
      "source": [
        "### Strings"
      ]
    },
    {
      "cell_type": "code",
      "metadata": {
        "id": "Lw4wJQKSlSqs",
        "colab_type": "code",
        "colab": {
          "base_uri": "https://localhost:8080/",
          "height": 85
        },
        "outputId": "9e11d184-fbc8-41fa-d057-ea61319ebe8c"
      },
      "source": [
        "%%cu\n",
        "#include <iostream>\n",
        "#include <string>\n",
        "using namespace std;\n",
        "int main(){\n",
        "    string name = \"Oly\";\n",
        "    char char_name[] = {'O','l','y','\\0'}; // C-style string, not preferred\n",
        "    char *char_ptr = \"Olyasdasda\";\n",
        "    cout << name.length() << endl;\n",
        "    cout << char_name << endl;\n",
        "    cout << (sizeof char_ptr)/(sizeof 'O') << endl;\n",
        "    return 0;\n",
        "}"
      ],
      "execution_count": 12,
      "outputs": [
        {
          "output_type": "stream",
          "text": [
            "3\n",
            "Oly\n",
            "8\n",
            "\n"
          ],
          "name": "stdout"
        }
      ]
    },
    {
      "cell_type": "markdown",
      "metadata": {
        "id": "HAZba_PrAqI2",
        "colab_type": "text"
      },
      "source": [
        "### Pointers (with arrays & pass by reference examples)"
      ]
    },
    {
      "cell_type": "code",
      "metadata": {
        "id": "jFKNFXow82Pc",
        "colab_type": "code",
        "colab": {
          "base_uri": "https://localhost:8080/",
          "height": 170
        },
        "outputId": "e1e51319-1c7d-4313-cc14-f77ca203ad07"
      },
      "source": [
        "%%cu\n",
        "#include <iostream>\n",
        "#include <string>\n",
        "using namespace std;\n",
        "void assign_ptr_args(int*, int*);\n",
        "void assign_reference_args(int&, int&);\n",
        "int main(){\n",
        "    int var_int = 10;\n",
        "    int *ptr_int = &var_int;\n",
        "    cout << ptr_int << endl;\n",
        "    cout << *ptr_int << endl;\n",
        "    string var_str = \"Oly\";\n",
        "    string *ptr_str = &var_str;\n",
        "    cout << ptr_str << endl;\n",
        "    cout << *ptr_str << endl;\n",
        "    int arr[] = {1, 2, 3, 4};\n",
        "    int arr_length = (sizeof arr) / (sizeof arr[0]);\n",
        "    cout << *(arr+2) << endl;\n",
        "    string sarr[] = {\"hello\", \"world\", \"me\"};\n",
        "    cout << sarr[1] << endl;\n",
        "    int a=10, b=20;\n",
        "    int *ptr_a=&a, *ptr_b=&b;\n",
        "    assign_reference_args(a, b);\n",
        "    cout << \"a = \" << a << \", b = \" << b << endl;\n",
        "    assign_ptr_args(ptr_a, ptr_b);\n",
        "    cout << \"a = \" << a << \", b = \" << b << endl; \n",
        "    return 0;\n",
        "} \n",
        "void assign_reference_args(int &x, int &y){\n",
        "    x = 34;\n",
        "    y = 36;\n",
        "}\n",
        "void assign_ptr_args(int *x, int *y){\n",
        "    *x = 75;\n",
        "    *y = 77;\n",
        "}"
      ],
      "execution_count": null,
      "outputs": [
        {
          "output_type": "stream",
          "text": [
            "0x7fffdd797480\n",
            "10\n",
            "0x7fffdd7974c0\n",
            "Oly\n",
            "3\n",
            "world\n",
            "a = 34, b = 36\n",
            "a = 75, b = 77\n",
            "\n"
          ],
          "name": "stdout"
        }
      ]
    },
    {
      "cell_type": "markdown",
      "metadata": {
        "id": "sApAoULz8qCs",
        "colab_type": "text"
      },
      "source": [
        "### Structs with pointers"
      ]
    },
    {
      "cell_type": "code",
      "metadata": {
        "id": "IFBLfh8wvnPz",
        "colab_type": "code",
        "colab": {
          "base_uri": "https://localhost:8080/",
          "height": 68
        },
        "outputId": "b611b1fc-2e92-4abc-8a1b-8b7a8c7cf794"
      },
      "source": [
        "%%cu\n",
        "#include <iostream>\n",
        "#include <string>\n",
        "using namespace std;\n",
        "\n",
        "struct Person{\n",
        "    string name;\n",
        "    int age;\n",
        "};\n",
        "int main(){\n",
        "    Person person;\n",
        "    person.name = \"Oly\";\n",
        "    person.age = 19;\n",
        "    Person *person_ptr;\n",
        "    person_ptr = &person;\n",
        "    cout << person.name << endl;\n",
        "    cout << person_ptr->name << endl;\n",
        "    Person p2 = {.name=\"Sis\", .age=20};\n",
        "    cout << p2.name;\n",
        "    return 0;\n",
        "}"
      ],
      "execution_count": 124,
      "outputs": [
        {
          "output_type": "stream",
          "text": [
            "Oly\n",
            "Oly\n",
            "Sis\n"
          ],
          "name": "stdout"
        }
      ]
    },
    {
      "cell_type": "markdown",
      "metadata": {
        "id": "V6aA1wLNh2nF",
        "colab_type": "text"
      },
      "source": [
        "### Enum"
      ]
    },
    {
      "cell_type": "code",
      "metadata": {
        "id": "_isGGa07fUKs",
        "colab_type": "code",
        "colab": {
          "base_uri": "https://localhost:8080/",
          "height": 34
        },
        "outputId": "75576555-851e-4e59-be0f-36571254976a"
      },
      "source": [
        "%%cu\n",
        "#include <iostream>\n",
        "#include <string>\n",
        "using namespace std;\n",
        " \n",
        "// Enums are mainly used for flags if at all.\n",
        "int main(){\n",
        "    enum project_state {NOT_STARTED=1, IN_PROGRESS=2, DONE=3, CANCELLED=4};\n",
        "    project_state state;\n",
        "    state = DONE;\n",
        "    if (state == DONE)\n",
        "        cout << \"We are done\";\n",
        "    else\n",
        "        cout << \"We are not done\";\n",
        "    return 0;\n",
        "}"
      ],
      "execution_count": null,
      "outputs": [
        {
          "output_type": "stream",
          "text": [
            "We are done\n"
          ],
          "name": "stdout"
        }
      ]
    },
    {
      "cell_type": "markdown",
      "metadata": {
        "id": "CtR9UjJlvEXT",
        "colab_type": "text"
      },
      "source": [
        "### Classes/Objects with pointers "
      ]
    },
    {
      "cell_type": "code",
      "metadata": {
        "id": "pfdiRBDSmOHG",
        "colab_type": "code",
        "colab": {
          "base_uri": "https://localhost:8080/",
          "height": 68
        },
        "outputId": "94f2a7b8-98bc-4345-97e5-a18b008b948e"
      },
      "source": [
        "%%cu\n",
        "#include <iostream>\n",
        "#include <string>\n",
        "using namespace std;\n",
        "class Person{\n",
        "    private:\n",
        "      string name;\n",
        "      int age;\n",
        "    public: \n",
        "      Person();\n",
        "      Person(string name, int age);\n",
        "      string getName();\n",
        "      int getAge();  \n",
        "};\n",
        "int main(){\n",
        "    Person person(\"Oly\",20);\n",
        "    Person *person_ptr;\n",
        "    person_ptr = new Person(\"Sis\", 15);\n",
        "    cout << person.getName() << endl;\n",
        "    cout << person_ptr->getName() << endl;\n",
        "    delete person_ptr;\n",
        "    return 0;\n",
        "}\n",
        "Person::Person(string name, int age){\n",
        "    this->name = name;\n",
        "    this->age = age;\n",
        "}\n",
        "string Person::getName(){\n",
        "    return this->name;\n",
        "}\n",
        "int Person::getAge(){\n",
        "    return this->age;\n",
        "}"
      ],
      "execution_count": 13,
      "outputs": [
        {
          "output_type": "stream",
          "text": [
            "Oly\n",
            "Sis\n",
            "\n"
          ],
          "name": "stdout"
        }
      ]
    },
    {
      "cell_type": "markdown",
      "metadata": {
        "id": "YSSizMSOh-R_",
        "colab_type": "text"
      },
      "source": [
        "# Dynamic Memory Allocation"
      ]
    },
    {
      "cell_type": "code",
      "metadata": {
        "id": "ZzFALVE8hvc6",
        "colab_type": "code",
        "colab": {
          "base_uri": "https://localhost:8080/",
          "height": 136
        },
        "outputId": "92c5b129-7262-481d-d3f2-438914d72955"
      },
      "source": [
        "%%cu\n",
        "#include <iostream>\n",
        "#include <string>\n",
        "using namespace std;\n",
        "class Person{\n",
        "    private:\n",
        "      string name;\n",
        "      int age;\n",
        "    public: \n",
        "      Person();\n",
        "      Person(string name, int age);\n",
        "      string getName();\n",
        "      int getAge();  \n",
        "};\n",
        "\n",
        "Person::Person(string name, int age){\n",
        "    this->name = name;\n",
        "    this->age = age;\n",
        "}\n",
        "string Person::getName(){\n",
        "    return this->name;\n",
        "}\n",
        "int Person::getAge(){\n",
        "    return this->age;\n",
        "}\n",
        "\n",
        "int main(){\n",
        "    Person *p = new Person(\"Oly\", 25);\n",
        "    string pname = p->getName();\n",
        "    cout<<\"Person's name: \"<<pname<<endl;\n",
        "    delete p;\n",
        "    // cout<<\"Person's name: \"<<p->getName(); -> throws error\n",
        "    cout<<\"Arrays:\"<<endl;\n",
        "    int arr[4]; //fixed allocation\n",
        "    cout<<\"Size of array: \"<<(sizeof arr)/(sizeof arr[0])<<endl;\n",
        "    /*\n",
        "    for (int i=0; i < 5; i++)\n",
        "       arr[i] = i; // error because allocation is fixed.\n",
        "    */\n",
        "    int *arr2 = new int[4];\n",
        "    for (int i=0; i < 10; i++)\n",
        "       arr2[i] = i;\n",
        "    cout<<\"7th element in arr2: \"<<arr2[7]<<endl;\n",
        "    cout<<\"arr2 = \"<<arr2<<endl;\n",
        "    // int *iptr; -> won't throw an error outright but no heap memory allocated.\n",
        "    int *iptr = new int;\n",
        "    iptr[0] = 0;\n",
        "    iptr[1] = 1;\n",
        "    iptr = new int[5];\n",
        "    iptr[4] = NULL;\n",
        "    cout<<\"iptr[4] = \"<<iptr[4]<<endl;\n",
        "    delete iptr, arr2;\n",
        "    return 0;\n",
        "}"
      ],
      "execution_count": 122,
      "outputs": [
        {
          "output_type": "stream",
          "text": [
            "Person's name: Oly\n",
            "Arrays:\n",
            "Size of array: 4\n",
            "7th element in arr2: 7\n",
            "arr2 = 0x55dea5e20010\n",
            "iptr[4] = 0\n",
            "\n"
          ],
          "name": "stdout"
        }
      ]
    },
    {
      "cell_type": "markdown",
      "metadata": {
        "id": "V36EJqxamvWg",
        "colab_type": "text"
      },
      "source": [
        "# Misc notes\n",
        "\n",
        "char - 1 byte <br>\n",
        "char* - 4/8 bytes (as char* stores reference) <br>\n",
        "int arr[100]; //Fixed memory allocation <br>\n",
        "int *arr = new int[100]; <br>\n",
        "arr[101] = 101; //technically allowed, not preferred. <br>\n",
        "arr = new int[1000]; // allowed as the allocation is dynamic\n",
        "\n"
      ]
    }
  ]
}