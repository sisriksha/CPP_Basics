{
  "nbformat": 4,
  "nbformat_minor": 0,
  "metadata": {
    "colab": {
      "name": "C++ Inheritance.ipynb",
      "provenance": [],
      "authorship_tag": "ABX9TyOL7ekeIPLIfuGNhDxIwhrv",
      "include_colab_link": true
    },
    "kernelspec": {
      "name": "python3",
      "display_name": "Python 3"
    }
  },
  "cells": [
    {
      "cell_type": "markdown",
      "metadata": {
        "id": "view-in-github",
        "colab_type": "text"
      },
      "source": [
        "<a href=\"https://colab.research.google.com/github/sisriksha/CPP_Basics/blob/master/C%2B%2B_Inheritance.ipynb\" target=\"_parent\"><img src=\"https://colab.research.google.com/assets/colab-badge.svg\" alt=\"Open In Colab\"/></a>"
      ]
    },
    {
      "cell_type": "markdown",
      "metadata": {
        "id": "sGSKoYJ9YpAJ",
        "colab_type": "text"
      },
      "source": [
        "# **Friend Functions**"
      ]
    },
    {
      "cell_type": "code",
      "metadata": {
        "id": "_q0PQEvoRteY",
        "colab_type": "code",
        "colab": {
          "base_uri": "https://localhost:8080/",
          "height": 34
        },
        "outputId": "163f090f-12cf-4127-9d4c-cfb85278f6be"
      },
      "source": [
        "%%writefile main.cpp\n",
        "#include <iostream> \n",
        "#include <string> \n",
        "using namespace std;\n",
        " \n",
        "class Person{\n",
        "  private:\n",
        "    string name = \"\";\n",
        "    int id = -1;\n",
        "  public:\n",
        "    Person(string name, int id);\n",
        "    int GetId();\n",
        "    friend string GetName(Person);\n",
        "};\n",
        " \n",
        "Person::Person(string name,int id){\n",
        "  cout<<\"Inside Person's constructor\"<<endl;\n",
        "  this->name = name;\n",
        "  this->id = id;\n",
        "}\n",
        " \n",
        "int Person::GetId(){\n",
        "  cout<<\"Inside Person's GetId\"<<endl;\n",
        "  return this->id;\n",
        "}\n",
        " \n",
        "string GetName(Person p1){ \n",
        "  cout<<\"Inside GetName friend\"<<endl;\n",
        "  return p1.name;\n",
        "}\n",
        " \n",
        "int main(){\n",
        "  Person p(\"Oly\", 25);\n",
        "  auto pid = p.GetId();\n",
        "  string pname = GetName(p);\n",
        "  cout<<\"hello \"<<pid<<endl;\n",
        "  cout<<\"name: \"<<pname<<endl;\n",
        "}"
      ],
      "execution_count": null,
      "outputs": [
        {
          "output_type": "stream",
          "text": [
            "Overwriting main.cpp\n"
          ],
          "name": "stdout"
        }
      ]
    },
    {
      "cell_type": "code",
      "metadata": {
        "id": "bJwTbq3JS_Fx",
        "colab_type": "code",
        "colab": {
          "base_uri": "https://localhost:8080/",
          "height": 103
        },
        "outputId": "79e1a055-05f6-4dd6-e8d0-35356ad04dd5"
      },
      "source": [
        "!g++ main.cpp && ./a.out"
      ],
      "execution_count": null,
      "outputs": [
        {
          "output_type": "stream",
          "text": [
            "Inside Person's constructor\n",
            "Inside Person's GetId\n",
            "Inside GetName friend\n",
            "hello 25\n",
            "name: Oly\n"
          ],
          "name": "stdout"
        }
      ]
    },
    {
      "cell_type": "markdown",
      "metadata": {
        "id": "vd5flqodzcFC",
        "colab_type": "text"
      },
      "source": [
        "# **Virtual Functions and Inheritance**"
      ]
    },
    {
      "cell_type": "code",
      "metadata": {
        "id": "QdE2KcULzgPC",
        "colab_type": "code",
        "colab": {
          "base_uri": "https://localhost:8080/",
          "height": 34
        },
        "outputId": "4b157d1f-dfe4-4b6d-f0b5-350da4764401"
      },
      "source": [
        "%%writefile main.cpp\n",
        "#include <iostream>\n",
        "#include <string>\n",
        "using namespace std;\n",
        "\n",
        "class Person{\n",
        "    protected:\n",
        "      string name;\n",
        "      int id;\n",
        "    public:\n",
        "      Person();\n",
        "      Person(string name, int id);\n",
        "      void PrintName();\n",
        "      virtual void PrintId();\n",
        "};\n",
        "Person::Person(){\n",
        "    cout<<\"Person default constructor\"<<endl;\n",
        "}\n",
        "\n",
        "Person::Person(string name, int id){\n",
        "    cout<<\"Person parameterized constructor\"<<endl;\n",
        "    this->name = name;\n",
        "    this->id = id;\n",
        "}\n",
        "\n",
        "void Person::PrintName(){\n",
        "    cout << \"Person Name: \" << this->name << endl;\n",
        "}\n",
        "\n",
        "void Person::PrintId(){\n",
        "    cout << \"Person Id: \" << this->id << endl;\n",
        "}\n",
        "\n",
        "class Engineer: public Person{\n",
        "    private:\n",
        "      string occupation = \"Engineer\";\n",
        "    public:\n",
        "      Engineer(string name, int id);\n",
        "      void PrintName();\n",
        "      void PrintId();\n",
        "};\n",
        "\n",
        "Engineer::Engineer(string name, int id): Person(name, id){\n",
        "    cout<<\"Engineer parameterized constuctor\"<<endl;\n",
        "}\n",
        "\n",
        "void Engineer::PrintName(){\n",
        "    cout << \"Engineer Name: \" << this->name << endl;\n",
        "}\n",
        "\n",
        "void Engineer::PrintId(){\n",
        "    cout << \"Engineer Id: \" << this->id << endl;\n",
        "}\n",
        "\n",
        "int main(){\n",
        "    cout<<\"Creating Objects\"<<endl;\n",
        "    Person *p = new Person(\"Oly\", 25);\n",
        "    Engineer *e = new Engineer(\"Sis\", 23);\n",
        "    Person *pe = new Engineer(\"Ram\", 21);\n",
        "    cout<<\"-------------------\"<<endl;\n",
        "    cout<<\"Printing Names: \"<<endl;\n",
        "    p->PrintName();\n",
        "    e->PrintName();\n",
        "    pe->PrintName();\n",
        "    cout<<\"-------------------\"<<endl;\n",
        "    cout<<\"Printing Ids: \"<<endl;\n",
        "    p->PrintId();\n",
        "    e->PrintId();\n",
        "    pe->PrintId();\n",
        "    delete p, e, pe;\n",
        "    return 0;\n",
        "}"
      ],
      "execution_count": 86,
      "outputs": [
        {
          "output_type": "stream",
          "text": [
            "Overwriting main.cpp\n"
          ],
          "name": "stdout"
        }
      ]
    },
    {
      "cell_type": "code",
      "metadata": {
        "id": "TCI-avVs0-Cn",
        "colab_type": "code",
        "colab": {}
      },
      "source": [
        "!g++ main.cpp && ./a.out"
      ],
      "execution_count": null,
      "outputs": []
    },
    {
      "cell_type": "markdown",
      "metadata": {
        "id": "abLnM97LCvrY",
        "colab_type": "text"
      },
      "source": [
        "# **Multifile Inheritance**"
      ]
    },
    {
      "cell_type": "code",
      "metadata": {
        "id": "FQkoXHt_DESJ",
        "colab_type": "code",
        "colab": {
          "base_uri": "https://localhost:8080/",
          "height": 34
        },
        "outputId": "e3fe00a0-61a9-4a1d-ca92-3913eded2cd4"
      },
      "source": [
        "%%writefile person.h\n",
        "\n",
        "#ifndef PERSON_H\n",
        "#define PERSON_H\n",
        "\n",
        "#include <string>\n",
        "using namespace std;\n",
        "\n",
        "class Person{\n",
        "    protected:\n",
        "      string name;\n",
        "      int id;\n",
        "    public:\n",
        "      Person();\n",
        "      Person(string name, int id);\n",
        "      void PrintName();\n",
        "      virtual void PrintId();\n",
        "};\n",
        "\n",
        "#endif"
      ],
      "execution_count": 104,
      "outputs": [
        {
          "output_type": "stream",
          "text": [
            "Overwriting person.h\n"
          ],
          "name": "stdout"
        }
      ]
    },
    {
      "cell_type": "code",
      "metadata": {
        "id": "SQHLarw81Bsn",
        "colab_type": "code",
        "colab": {
          "base_uri": "https://localhost:8080/",
          "height": 34
        },
        "outputId": "0627b685-21d9-4b58-b266-2cecfa68d46a"
      },
      "source": [
        "%%writefile person.cpp\n",
        "\n",
        "#include <iostream>\n",
        "#include <string>\n",
        "#include \"person.h\"\n",
        "\n",
        "using namespace std;\n",
        "\n",
        "Person::Person(){\n",
        "    cout<<\"Person default constructor\"<<endl;\n",
        "}\n",
        "\n",
        "Person::Person(string name, int id){\n",
        "    cout<<\"Person parameterized constructor\"<<endl;\n",
        "    this->name = name;\n",
        "    this->id = id;\n",
        "}\n",
        "\n",
        "void Person::PrintName(){\n",
        "    cout << \"Person Name: \" << this->name << endl;\n",
        "}\n",
        "\n",
        "void Person::PrintId(){\n",
        "    cout << \"Person Id: \" << this->id << endl;\n",
        "}"
      ],
      "execution_count": 105,
      "outputs": [
        {
          "output_type": "stream",
          "text": [
            "Overwriting person.cpp\n"
          ],
          "name": "stdout"
        }
      ]
    },
    {
      "cell_type": "code",
      "metadata": {
        "id": "fh4z1YdIEmgM",
        "colab_type": "code",
        "colab": {
          "base_uri": "https://localhost:8080/",
          "height": 34
        },
        "outputId": "0a65b156-4207-464d-ee0a-b10e15f77d2b"
      },
      "source": [
        "%%writefile engineer.h\n",
        "\n",
        "#ifndef ENGINEER_H\n",
        "#define ENGINEER_H\n",
        "\n",
        "#include <string>\n",
        "#include \"person.h\"\n",
        "\n",
        "using namespace std;\n",
        "\n",
        "class Engineer: public Person{\n",
        "    private:\n",
        "      string occupation = \"Engineer\";\n",
        "    public:\n",
        "      Engineer(string name, int id);\n",
        "      void PrintName();\n",
        "      void PrintId();\n",
        "};\n",
        "\n",
        "#endif"
      ],
      "execution_count": 110,
      "outputs": [
        {
          "output_type": "stream",
          "text": [
            "Overwriting engineer.h\n"
          ],
          "name": "stdout"
        }
      ]
    },
    {
      "cell_type": "code",
      "metadata": {
        "id": "DPvNQaJZE7Mf",
        "colab_type": "code",
        "colab": {
          "base_uri": "https://localhost:8080/",
          "height": 34
        },
        "outputId": "41c59f33-da7f-47d9-9b21-3811527c98df"
      },
      "source": [
        "%%writefile engineer.cpp\n",
        "\n",
        "#include <iostream>\n",
        "#include <string>\n",
        "#include \"person.h\"\n",
        "#include \"engineer.h\"\n",
        "\n",
        "using namespace std;\n",
        "\n",
        "Engineer::Engineer(string name, int id): Person(name, id){\n",
        "    cout<<\"Engineer parameterized constuctor\"<<endl;\n",
        "}\n",
        "\n",
        "void Engineer::PrintName(){\n",
        "    cout << \"Engineer Name: \" << this->name << endl;\n",
        "}\n",
        "\n",
        "void Engineer::PrintId(){\n",
        "    cout << \"Engineer Id: \" << this->id << endl;\n",
        "}"
      ],
      "execution_count": 114,
      "outputs": [
        {
          "output_type": "stream",
          "text": [
            "Overwriting engineer.cpp\n"
          ],
          "name": "stdout"
        }
      ]
    },
    {
      "cell_type": "code",
      "metadata": {
        "id": "EgW-esMSDjej",
        "colab_type": "code",
        "colab": {
          "base_uri": "https://localhost:8080/",
          "height": 34
        },
        "outputId": "473d5185-c77e-4094-e33c-e7a1e05460ff"
      },
      "source": [
        "%%writefile main.cpp\n",
        "\n",
        "#include <iostream>\n",
        "#include <string>\n",
        "#include \"person.h\"\n",
        "#include \"engineer.h\"\n",
        "\n",
        "using namespace std;\n",
        "\n",
        "int main(){\n",
        "    cout<<\"Creating Objects\"<<endl;\n",
        "    Person *p = new Person(\"Oly\", 25);\n",
        "    Engineer *e = new Engineer(\"Sis\", 23);\n",
        "    Person *pe = new Engineer(\"Ram\", 21);\n",
        "    cout<<\"-------------------\"<<endl;\n",
        "    cout<<\"Printing Names: \"<<endl;\n",
        "    p->PrintName();\n",
        "    e->PrintName();\n",
        "    pe->PrintName();\n",
        "    cout<<\"-------------------\"<<endl;\n",
        "    cout<<\"Printing Ids: \"<<endl;\n",
        "    p->PrintId();\n",
        "    e->PrintId();\n",
        "    pe->PrintId();\n",
        "    delete p, e, pe;\n",
        "    return 0;\n",
        "}\n"
      ],
      "execution_count": 118,
      "outputs": [
        {
          "output_type": "stream",
          "text": [
            "Overwriting main.cpp\n"
          ],
          "name": "stdout"
        }
      ]
    },
    {
      "cell_type": "code",
      "metadata": {
        "id": "3xDU-SNMDyiL",
        "colab_type": "code",
        "colab": {
          "base_uri": "https://localhost:8080/",
          "height": 289
        },
        "outputId": "13620f38-7194-47d7-e1a6-eb9ad12e7145"
      },
      "source": [
        "!g++ main.cpp person.cpp engineer.cpp && ./a.out"
      ],
      "execution_count": 119,
      "outputs": [
        {
          "output_type": "stream",
          "text": [
            "Creating Objects\n",
            "Person parameterized constructor\n",
            "Person parameterized constructor\n",
            "Engineer parameterized constuctor\n",
            "Person parameterized constructor\n",
            "Engineer parameterized constuctor\n",
            "-------------------\n",
            "Printing Names: \n",
            "Person Name: Oly\n",
            "Engineer Name: Sis\n",
            "Person Name: Ram\n",
            "-------------------\n",
            "Printing Ids: \n",
            "Person Id: 25\n",
            "Engineer Id: 23\n",
            "Engineer Id: 21\n"
          ],
          "name": "stdout"
        }
      ]
    },
    {
      "cell_type": "code",
      "metadata": {
        "id": "F6sUsv0mG6RJ",
        "colab_type": "code",
        "colab": {}
      },
      "source": [
        ""
      ],
      "execution_count": null,
      "outputs": []
    }
  ]
}