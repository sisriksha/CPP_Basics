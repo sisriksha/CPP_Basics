{
  "nbformat": 4,
  "nbformat_minor": 0,
  "metadata": {
    "colab": {
      "name": "C++_Templates_Classes.ipynb",
      "provenance": [],
      "include_colab_link": true
    },
    "kernelspec": {
      "name": "python3",
      "display_name": "Python 3"
    }
  },
  "cells": [
    {
      "cell_type": "markdown",
      "metadata": {
        "id": "view-in-github",
        "colab_type": "text"
      },
      "source": [
        "<a href=\"https://colab.research.google.com/github/sisriksha/CPP_Basics/blob/master/C%2B%2B_Templates_Classes.ipynb\" target=\"_parent\"><img src=\"https://colab.research.google.com/assets/colab-badge.svg\" alt=\"Open In Colab\"/></a>"
      ]
    },
    {
      "cell_type": "markdown",
      "metadata": {
        "id": "1g1iJIpbabur",
        "colab_type": "text"
      },
      "source": [
        "# **Basics**"
      ]
    },
    {
      "cell_type": "code",
      "metadata": {
        "id": "P3ji0iOU788O",
        "colab_type": "code",
        "colab": {
          "base_uri": "https://localhost:8080/",
          "height": 34
        },
        "outputId": "89b7370c-60f4-4773-e4a5-de06f67ac7f9"
      },
      "source": [
        "%%writefile hello.cpp\n",
        "\n",
        "#include <iostream>\n",
        "\n",
        "int main()\n",
        "{\n",
        "    std::cout<<\"Hello\";\n",
        "    return 0;\n",
        "}"
      ],
      "execution_count": null,
      "outputs": [
        {
          "output_type": "stream",
          "text": [
            "Writing hello.cpp\n"
          ],
          "name": "stdout"
        }
      ]
    },
    {
      "cell_type": "code",
      "metadata": {
        "id": "-IM59qcH8ReN",
        "colab_type": "code",
        "colab": {
          "base_uri": "https://localhost:8080/",
          "height": 34
        },
        "outputId": "8aca0d8b-4286-4f83-a35d-2226a1147ac6"
      },
      "source": [
        "%%writefile person.h\n",
        "\n",
        "#pragma once\n",
        "#include <string>\n",
        "\n",
        "\n",
        "class Person{\n",
        "    private:\n",
        "      int id;\n",
        "      std::string name;\n",
        "\n",
        "    public:\n",
        "      Person(int id, std::string name);\n",
        "      std::string getName();\n",
        "};"
      ],
      "execution_count": null,
      "outputs": [
        {
          "output_type": "stream",
          "text": [
            "Overwriting person.h\n"
          ],
          "name": "stdout"
        }
      ]
    },
    {
      "cell_type": "code",
      "metadata": {
        "id": "aPg_4jzlCzg-",
        "colab_type": "code",
        "colab": {
          "base_uri": "https://localhost:8080/",
          "height": 34
        },
        "outputId": "a8bcdc2e-dc44-406d-f90e-974396531a38"
      },
      "source": [
        "%%writefile person.cpp\n",
        "#include <string>\n",
        "#include \"person.h\"\n",
        "using namespace std;\n",
        "\n",
        "Person::Person(int id, string name){\n",
        "    this->id = id;\n",
        "    this->name = name;\n",
        "}\n",
        "\n",
        "string Person::getName(){\n",
        "    return this->name;\n",
        "}"
      ],
      "execution_count": null,
      "outputs": [
        {
          "output_type": "stream",
          "text": [
            "Overwriting person.cpp\n"
          ],
          "name": "stdout"
        }
      ]
    },
    {
      "cell_type": "code",
      "metadata": {
        "id": "79EobiMWz53y",
        "colab_type": "code",
        "colab": {
          "base_uri": "https://localhost:8080/",
          "height": 34
        },
        "outputId": "0d5df87b-6617-4181-efed-78fedbfd915f"
      },
      "source": [
        "%%writefile main.cpp\n",
        "#include \"person.h\"\n",
        "#include <iostream>\n",
        "\n",
        "int main(){\n",
        "    Person p(1, \"Oly\");\n",
        "    //std::string personName = p.getName();\n",
        "    std::cout<<\"Just checking if things work; \";\n",
        "    return 0;\n",
        "}"
      ],
      "execution_count": null,
      "outputs": [
        {
          "output_type": "stream",
          "text": [
            "Overwriting main.cpp\n"
          ],
          "name": "stdout"
        }
      ]
    },
    {
      "cell_type": "code",
      "metadata": {
        "id": "ZdHFpBO30u3c",
        "colab_type": "code",
        "colab": {}
      },
      "source": [
        "!g++ main.cpp person.cpp"
      ],
      "execution_count": null,
      "outputs": []
    },
    {
      "cell_type": "code",
      "metadata": {
        "id": "4JgN0AVz1HIk",
        "colab_type": "code",
        "colab": {
          "base_uri": "https://localhost:8080/",
          "height": 34
        },
        "outputId": "abd6f0a1-3880-41bb-8ce0-63b65e14ecb4"
      },
      "source": [
        "!./a.out"
      ],
      "execution_count": null,
      "outputs": [
        {
          "output_type": "stream",
          "text": [
            "Just checking if things work; "
          ],
          "name": "stdout"
        }
      ]
    },
    {
      "cell_type": "markdown",
      "metadata": {
        "id": "hfwufQ7lQHui",
        "colab_type": "text"
      },
      "source": [
        "# **Templates & Classes**\n",
        "All in main.cpp"
      ]
    },
    {
      "cell_type": "code",
      "metadata": {
        "id": "TqM3k6kv1UW-",
        "colab_type": "code",
        "colab": {
          "base_uri": "https://localhost:8080/",
          "height": 34
        },
        "outputId": "bb026396-23b0-4026-fa5e-216d43ae5b3a"
      },
      "source": [
        "%%writefile main.cpp\n",
        "#include <iostream>\n",
        "#include <string>\n",
        "using namespace std;\n",
        "\n",
        "template <class T>\n",
        "class Base{\n",
        "    private:\n",
        "      T val;\n",
        "    public:\n",
        "      Base(T val);\n",
        "      void print_hello();\n",
        "      T add(T a, T b);\n",
        "      T getVal();\n",
        "\n",
        "};\n",
        "\n",
        "template <class T>\n",
        "Base<T>::Base(T val){\n",
        "    this->val = val;\n",
        "}\n",
        "\n",
        "template <class T>\n",
        "T Base<T>::getVal(){\n",
        "    return this->val;\n",
        "}\n",
        "\n",
        "template <class T>\n",
        "void Base<T>::print_hello(){\n",
        "    cout<<\"Hello\"<<endl;\n",
        "}\n",
        "\n",
        "template <class T>\n",
        "T Base<T>::add(T a, T b){\n",
        "    return a+b;\n",
        "}\n",
        "\n",
        "int main(){\n",
        "    Base<int> b(500);\n",
        "    int res = b.add(1,2);\n",
        "    b.print_hello();\n",
        "    int val = b.getVal();\n",
        "    cout<<\"Res: \"<<res<<endl;\n",
        "    cout<<\"Val: \"<<val<<endl;\n",
        "    return 0;\n",
        "}"
      ],
      "execution_count": null,
      "outputs": [
        {
          "output_type": "stream",
          "text": [
            "Overwriting main.cpp\n"
          ],
          "name": "stdout"
        }
      ]
    },
    {
      "cell_type": "code",
      "metadata": {
        "id": "HUPdWcjsMH-s",
        "colab_type": "code",
        "colab": {
          "base_uri": "https://localhost:8080/",
          "height": 68
        },
        "outputId": "212085d1-a179-4edc-ae8c-9b5639daf1a4"
      },
      "source": [
        "!g++ main.cpp && ./a.out"
      ],
      "execution_count": null,
      "outputs": [
        {
          "output_type": "stream",
          "text": [
            "Hello\n",
            "Res: 3\n",
            "Val: 500\n"
          ],
          "name": "stdout"
        }
      ]
    },
    {
      "cell_type": "markdown",
      "metadata": {
        "id": "0L0xXd7kQuN5",
        "colab_type": "text"
      },
      "source": [
        "# **Templates & Classes**\n",
        "With header files (only header file with main)"
      ]
    },
    {
      "cell_type": "code",
      "metadata": {
        "id": "gvpsG45nM7zw",
        "colab_type": "code",
        "colab": {
          "base_uri": "https://localhost:8080/",
          "height": 34
        },
        "outputId": "9274453b-a077-4726-d748-8c0f6d7e6bc3"
      },
      "source": [
        "%%writefile base.h\n",
        "#pragma once\n",
        "#include <iostream>\n",
        "using namespace std;\n",
        "\n",
        "template <class T>\n",
        "class Base{\n",
        "    private:\n",
        "      T val;\n",
        "    public:\n",
        "      Base(T val);\n",
        "      void print_hello();\n",
        "      T add(T a, T b);\n",
        "      T getVal();\n",
        "};\n",
        "\n",
        "template <class T>\n",
        "Base<T>::Base(T val){\n",
        "    this->val = val;\n",
        "}\n",
        "\n",
        "template <class T>\n",
        "T Base<T>::getVal(){\n",
        "    return this->val;\n",
        "}\n",
        "\n",
        "template <class T>\n",
        "void Base<T>::print_hello(){\n",
        "    cout<<\"Hello\"<<endl;\n",
        "}\n",
        "\n",
        "template <class T>\n",
        "T Base<T>::add(T a, T b){\n",
        "    return a+b;\n",
        "}"
      ],
      "execution_count": null,
      "outputs": [
        {
          "output_type": "stream",
          "text": [
            "Overwriting base.h\n"
          ],
          "name": "stdout"
        }
      ]
    },
    {
      "cell_type": "code",
      "metadata": {
        "id": "sr8YXZczXDq8",
        "colab_type": "code",
        "colab": {
          "base_uri": "https://localhost:8080/",
          "height": 34
        },
        "outputId": "9f0678f8-8779-4223-ccdb-24e955b5d232"
      },
      "source": [
        "%%writefile main.cpp\n",
        "#include \"base.h\"\n",
        "#include <iostream>\n",
        "using namespace std;\n",
        "\n",
        "int main(){\n",
        "    Base<int> b(500);\n",
        "    int res = b.add(1,2);\n",
        "    b.print_hello();\n",
        "    int val = b.getVal();\n",
        "    cout<<\"Res: \"<<res<<endl;\n",
        "    cout<<\"Val: \"<<val<<endl;\n",
        "    return 0;\n",
        "}"
      ],
      "execution_count": null,
      "outputs": [
        {
          "output_type": "stream",
          "text": [
            "Overwriting main.cpp\n"
          ],
          "name": "stdout"
        }
      ]
    },
    {
      "cell_type": "code",
      "metadata": {
        "id": "2gntxNTkXQFL",
        "colab_type": "code",
        "colab": {
          "base_uri": "https://localhost:8080/",
          "height": 68
        },
        "outputId": "1fe9cae3-5c84-409c-ab29-6b77cff9e1df"
      },
      "source": [
        "!g++ main.cpp && ./a.out"
      ],
      "execution_count": null,
      "outputs": [
        {
          "output_type": "stream",
          "text": [
            "Hello\n",
            "Res: 3\n",
            "Val: 500\n"
          ],
          "name": "stdout"
        }
      ]
    },
    {
      "cell_type": "markdown",
      "metadata": {
        "id": "6nvYDFzlZRRy",
        "colab_type": "text"
      },
      "source": [
        "# **Templates & Classes**\n",
        "With header, tpp & main files"
      ]
    },
    {
      "cell_type": "code",
      "metadata": {
        "id": "EHmGFFs5Xuj0",
        "colab_type": "code",
        "colab": {
          "base_uri": "https://localhost:8080/",
          "height": 34
        },
        "outputId": "dc90e03e-5987-408b-8d8e-802fdb75f5f4"
      },
      "source": [
        "%%writefile base.h\n",
        "#pragma once\n",
        "\n",
        "template <class T>\n",
        "class Base{\n",
        "    private:\n",
        "      T val;\n",
        "    public:\n",
        "      Base(T val);\n",
        "      void print_hello();\n",
        "      T add(T a, T b);\n",
        "      T getVal();\n",
        "};\n",
        "\n",
        "#include \"base.tpp\""
      ],
      "execution_count": null,
      "outputs": [
        {
          "output_type": "stream",
          "text": [
            "Overwriting base.h\n"
          ],
          "name": "stdout"
        }
      ]
    },
    {
      "cell_type": "code",
      "metadata": {
        "id": "nnBDCd0BZkbW",
        "colab_type": "code",
        "colab": {
          "base_uri": "https://localhost:8080/",
          "height": 34
        },
        "outputId": "0eede86f-b523-461a-c95c-e03022387a4a"
      },
      "source": [
        "%%writefile base.tpp\n",
        "#include <iostream>\n",
        "using namespace std;\n",
        "\n",
        "template <class T>\n",
        "Base<T>::Base(T val){\n",
        "    this->val = val;\n",
        "}\n",
        "\n",
        "template <class T>\n",
        "T Base<T>::getVal(){\n",
        "    return this->val;\n",
        "}\n",
        "\n",
        "template <class T>\n",
        "void Base<T>::print_hello(){\n",
        "    cout<<\"Hello\"<<endl;\n",
        "}\n",
        "\n",
        "template <class T>\n",
        "T Base<T>::add(T a, T b){\n",
        "    return a+b;\n",
        "}"
      ],
      "execution_count": null,
      "outputs": [
        {
          "output_type": "stream",
          "text": [
            "Writing base.tpp\n"
          ],
          "name": "stdout"
        }
      ]
    },
    {
      "cell_type": "code",
      "metadata": {
        "id": "-fUd6W0mZvIk",
        "colab_type": "code",
        "colab": {
          "base_uri": "https://localhost:8080/",
          "height": 34
        },
        "outputId": "49b4fac9-d459-4af8-e918-c40b6c61decd"
      },
      "source": [
        "%%writefile main.cpp\n",
        "#include \"base.h\"\n",
        "#include <iostream>\n",
        "using namespace std;\n",
        "\n",
        "int main(){\n",
        "    Base<int> b(500);\n",
        "    int res = b.add(1,2);\n",
        "    b.print_hello();\n",
        "    int val = b.getVal();\n",
        "    cout<<\"Res: \"<<res<<endl;\n",
        "    cout<<\"Val: \"<<val<<endl;\n",
        "    return 0;\n",
        "}"
      ],
      "execution_count": null,
      "outputs": [
        {
          "output_type": "stream",
          "text": [
            "Overwriting main.cpp\n"
          ],
          "name": "stdout"
        }
      ]
    },
    {
      "cell_type": "code",
      "metadata": {
        "id": "cka--9wbZx_h",
        "colab_type": "code",
        "colab": {
          "base_uri": "https://localhost:8080/",
          "height": 68
        },
        "outputId": "ccc2da98-8556-49ed-a0db-b95ff300b17e"
      },
      "source": [
        "!g++ main.cpp && ./a.out"
      ],
      "execution_count": null,
      "outputs": [
        {
          "output_type": "stream",
          "text": [
            "Hello\n",
            "Res: 3\n",
            "Val: 500\n"
          ],
          "name": "stdout"
        }
      ]
    }
  ]
}